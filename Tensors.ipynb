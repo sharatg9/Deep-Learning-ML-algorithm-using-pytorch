{
  "nbformat": 4,
  "nbformat_minor": 0,
  "metadata": {
    "colab": {
      "name": "Tensors.ipynb",
      "provenance": [],
      "collapsed_sections": [],
      "include_colab_link": true
    },
    "kernelspec": {
      "name": "python3",
      "display_name": "Python 3"
    }
  },
  "cells": [
    {
      "cell_type": "markdown",
      "metadata": {
        "id": "view-in-github",
        "colab_type": "text"
      },
      "source": [
        "<a href=\"https://colab.research.google.com/github/sharatg9/Deep-Learning-ML-algorithm-using-pytorch/blob/master/Tensors.ipynb\" target=\"_parent\"><img src=\"https://colab.research.google.com/assets/colab-badge.svg\" alt=\"Open In Colab\"/></a>"
      ]
    },
    {
      "cell_type": "code",
      "metadata": {
        "id": "2P9-gGbGFDaj",
        "colab_type": "code",
        "colab": {
          "base_uri": "https://localhost:8080/",
          "height": 306
        },
        "outputId": "eb36435d-3890-40b1-90e2-6b9bf57a615f"
      },
      "source": [
        "import numpy as np\n",
        "import torch\n",
        "\n",
        "#crearting numpy array\n",
        "a = np.array([1,2,3])\n",
        "print(a)\n",
        "\n",
        "#creating tensors\n",
        "b = torch.tensor([1,2,3])\n",
        "print(b)\n",
        "\n",
        "#converting numpy array to tensor\n",
        "arr = np.array([[1,2,3],[4,5,6],[7,8,9]])\n",
        "c = torch.from_numpy(arr)\n",
        "print(c)\n",
        "\n",
        "#converting tensor to numpy array\n",
        "arr_new = c.numpy()              \n",
        "print(arr_new)\n",
        "\n",
        "#reshapping tensors\n",
        "c = c.reshape(-1,1)\n",
        "print(c)\n",
        "\n",
        "\n"
      ],
      "execution_count": 11,
      "outputs": [
        {
          "output_type": "stream",
          "text": [
            "[1 2 3]\n",
            "tensor([1, 2, 3])\n",
            "tensor([[1, 2, 3],\n",
            "        [4, 5, 6],\n",
            "        [7, 8, 9]])\n",
            "[[1 2 3]\n",
            " [4 5 6]\n",
            " [7 8 9]]\n",
            "tensor([[1],\n",
            "        [2],\n",
            "        [3],\n",
            "        [4],\n",
            "        [5],\n",
            "        [6],\n",
            "        [7],\n",
            "        [8],\n",
            "        [9]])\n"
          ],
          "name": "stdout"
        }
      ]
    },
    {
      "cell_type": "code",
      "metadata": {
        "id": "NcOZYK_-G3lE",
        "colab_type": "code",
        "colab": {
          "base_uri": "https://localhost:8080/",
          "height": 105
        },
        "outputId": "182833ad-3eee-4a4c-ff86-bf04156a056c"
      },
      "source": [
        "#x_array = [i for i in range(10)]  \n",
        "x_train = np.array([i for i in range(10)], dtype=\"float\") \n",
        "x_train = torch.from_numpy(x_train)\n",
        "#inputs\n",
        "print(x_train) \n",
        "\n",
        "\n",
        "#y_array  y = 2x+1 \n",
        "y_train = np.array([2*i+1 for i in range(10)], dtype=\"float\")\n",
        "y_train = torch.from_numpy(y_train)\n",
        "#lable\n",
        "print(y_train)\n",
        "\n",
        "y1_train = np.random.random([2,2])\n",
        "y1_train = torch.from_numpy(y1_train)\n",
        "print(y1_train)\n",
        "\n",
        "\n",
        "\n"
      ],
      "execution_count": 25,
      "outputs": [
        {
          "output_type": "stream",
          "text": [
            "tensor([0., 1., 2., 3., 4., 5., 6., 7., 8., 9.], dtype=torch.float64)\n",
            "tensor([ 1.,  3.,  5.,  7.,  9., 11., 13., 15., 17., 19.], dtype=torch.float64)\n",
            "tensor([[0.4958, 0.5717],\n",
            "        [0.5568, 0.5520]], dtype=torch.float64)\n"
          ],
          "name": "stdout"
        }
      ]
    },
    {
      "cell_type": "code",
      "metadata": {
        "id": "mdJxZrZxNBnh",
        "colab_type": "code",
        "colab": {}
      },
      "source": [
        "np.zeros([2,2])"
      ],
      "execution_count": 0,
      "outputs": []
    },
    {
      "cell_type": "code",
      "metadata": {
        "id": "5gxPTUZONxlW",
        "colab_type": "code",
        "colab": {}
      },
      "source": [
        "torch.zeros([2,2])"
      ],
      "execution_count": 0,
      "outputs": []
    },
    {
      "cell_type": "code",
      "metadata": {
        "id": "Dc6ZmFX_N11v",
        "colab_type": "code",
        "colab": {
          "base_uri": "https://localhost:8080/",
          "height": 85
        },
        "outputId": "67eab370-adbb-4583-f383-6e68ca4b45d7"
      },
      "source": [
        "a = np.random.random([2,2])\n",
        "print(\"numpy random arraya\", a)\n",
        "\n",
        "b = torch.rand(2,2)\n",
        "print(\"random\", b)\n"
      ],
      "execution_count": 39,
      "outputs": [
        {
          "output_type": "stream",
          "text": [
            "numpy random arraya [[0.99523647 0.22217838]\n",
            " [0.79447672 0.75109473]]\n",
            "random tensor([[0.5327, 0.0859],\n",
            "        [0.3771, 0.6173]])\n"
          ],
          "name": "stdout"
        }
      ]
    },
    {
      "cell_type": "code",
      "metadata": {
        "id": "aBmLSNgNO0TE",
        "colab_type": "code",
        "colab": {
          "base_uri": "https://localhost:8080/",
          "height": 221
        },
        "outputId": "7211928c-fc4a-4db2-dda3-ea87804ef63b"
      },
      "source": [
        "#seeds reproduaibility \n",
        "#seed number doesn't matter\n",
        "\n",
        "a = np.random.seed(2)\n",
        "a = np.random.rand(2,2)\n",
        "print(a)\n",
        "\n",
        "b = np.random.seed(2)\n",
        "b = np.random.rand(2,2)\n",
        "print(b)\n",
        "\n",
        "c = np.random.seed(2)\n",
        "c = np.random.rand(2,2)\n",
        "print(c)\n",
        "\n",
        "#produce different array\n",
        "d = np.random.rand(2,2)\n",
        "print(d)\n",
        "\n",
        "\n",
        "#tensor \n",
        "ta = torch.manual_seed(0)\n",
        "ta = torch.rand(2,2)\n",
        "print(ta)\n",
        "\n",
        "\n",
        "tb = torch.manual_seed(0)\n",
        "tb = torch.rand(2,2)\n",
        "print(tb)\n"
      ],
      "execution_count": 58,
      "outputs": [
        {
          "output_type": "stream",
          "text": [
            "[[0.4359949  0.02592623]\n",
            " [0.54966248 0.43532239]]\n",
            "[[0.4359949  0.02592623]\n",
            " [0.54966248 0.43532239]]\n",
            "[[0.4359949  0.02592623]\n",
            " [0.54966248 0.43532239]]\n",
            "[[0.4203678  0.33033482]\n",
            " [0.20464863 0.61927097]]\n",
            "tensor([[0.4963, 0.7682],\n",
            "        [0.0885, 0.1320]])\n",
            "tensor([[0.4963, 0.7682],\n",
            "        [0.0885, 0.1320]])\n"
          ],
          "name": "stdout"
        }
      ]
    },
    {
      "cell_type": "markdown",
      "metadata": {
        "id": "glVv4uBmWG_M",
        "colab_type": "text"
      },
      "source": [
        "# tensor Datatypes\n",
        "\n",
        "\n",
        "\n",
        "1.   int64   - longTensor   \n",
        "2.   int32   - IntTensor\n",
        "1.   uint8   - ByteTensor \n",
        "2.   float64 - doubleTensor\n",
        "1.   float32 - floatTensor   \n",
        "2.   double  - doubleTensor\n",
        "\n"
      ]
    },
    {
      "cell_type": "code",
      "metadata": {
        "id": "G_4Yay98XLF6",
        "colab_type": "code",
        "colab": {
          "base_uri": "https://localhost:8080/",
          "height": 34
        },
        "outputId": "ffb43fec-fa96-4ddc-ec3b-65b305701a08"
      },
      "source": [
        "#tensor on CPU to GPU\n",
        "\n",
        "tensor_cpu = torch.zeros(2,2)\n",
        "if torch.cuda.is_available():\n",
        "  tensor_cpu.cuda()\n",
        "  print(\"cuda is avaiable\")\n",
        "else: \n",
        "  print(\"cuda is unavaiable\")\n",
        "  \n",
        "  \n",
        "#GPU to CPU  \n",
        "tensor_cpu.cpu()  \n",
        "  "
      ],
      "execution_count": 62,
      "outputs": [
        {
          "output_type": "stream",
          "text": [
            "cuda is unavaiable\n"
          ],
          "name": "stdout"
        }
      ]
    },
    {
      "cell_type": "code",
      "metadata": {
        "id": "w1iCCC1rYwHg",
        "colab_type": "code",
        "colab": {
          "base_uri": "https://localhost:8080/",
          "height": 204
        },
        "outputId": "e72fa1d9-f04c-43e5-906e-a3763d6f7e41"
      },
      "source": [
        "#tensor arithmatic\n",
        "\n",
        "a = torch.zeros(2,2)\n",
        "print(a)\n",
        "\n",
        "#resize\n",
        "a.view(4 , 1)\n",
        "\n",
        "\n",
        "b = torch.ones(2,2)\n",
        "print(b)\n",
        "\n",
        "c = torch.ones(2,2)\n",
        "print(c)\n",
        "\n",
        "d = torch.add(b,c)\n",
        "print(d)\n",
        "\n",
        "print(\"-\"*25)\n",
        "\n",
        "addA = torch.ones(2,2)\n",
        "\n",
        "addB = torch.ones(2,2)\n",
        "\n",
        "addA.add_(addB)\n",
        "\n",
        "'''\n",
        "  in place\n",
        "  a.add_(b)\n",
        "  a.sub_(b)\n",
        "  a.mul_(b)\n",
        "  a.div_(b)\n",
        "  \n",
        "  c = a+b\n",
        "  c = a.add(a)\n",
        "\n",
        "'''\n"
      ],
      "execution_count": 76,
      "outputs": [
        {
          "output_type": "stream",
          "text": [
            "tensor([[0., 0.],\n",
            "        [0., 0.]])\n",
            "tensor([[1., 1.],\n",
            "        [1., 1.]])\n",
            "tensor([[1., 1.],\n",
            "        [1., 1.]])\n",
            "tensor([[2., 2.],\n",
            "        [2., 2.]])\n",
            "-------------------------\n"
          ],
          "name": "stdout"
        },
        {
          "output_type": "execute_result",
          "data": {
            "text/plain": [
              "tensor([[2., 2.],\n",
              "        [2., 2.]])"
            ]
          },
          "metadata": {
            "tags": []
          },
          "execution_count": 76
        }
      ]
    },
    {
      "cell_type": "code",
      "metadata": {
        "id": "VCStvovUbOFe",
        "colab_type": "code",
        "colab": {
          "base_uri": "https://localhost:8080/",
          "height": 153
        },
        "outputId": "c3f7ad48-3a79-47fc-9961-9bc93e3caf91"
      },
      "source": [
        "# tensor mean\n",
        "\n",
        "with torch.no_grad(): \n",
        "  \n",
        "  x = torch.tensor([[i for i in range(10)], [i*2 for i in range(10)]], dtype=float)\n",
        "\n",
        "  print(x)\n",
        "\n",
        "\n",
        "\n",
        "  b = x.max()\n",
        "  d = x.min()\n",
        "  c = x.sum()\n",
        "\n",
        "  print(\"mean of\", x.mean(dim=1))\n",
        "  print(\"standard deviation of\", x.std(dim=1))\n",
        "  print(\"maximum item of\", b )\n",
        "  print(\"minimun item of\", d )\n",
        "  print(\"Sum of \", c)\n",
        "\n",
        "\n",
        "\n"
      ],
      "execution_count": 104,
      "outputs": [
        {
          "output_type": "stream",
          "text": [
            "tensor([[ 0.,  1.,  2.,  3.,  4.,  5.,  6.,  7.,  8.,  9.],\n",
            "        [ 0.,  2.,  4.,  6.,  8., 10., 12., 14., 16., 18.]],\n",
            "       dtype=torch.float64)\n",
            "mean of tensor([4.5000, 9.0000], dtype=torch.float64)\n",
            "standard deviation of tensor([3.0277, 6.0553], dtype=torch.float64)\n",
            "maximum item of tensor(18., dtype=torch.float64)\n",
            "minimun item of tensor(0., dtype=torch.float64)\n",
            "Sum of  tensor(135., dtype=torch.float64)\n"
          ],
          "name": "stdout"
        }
      ]
    },
    {
      "cell_type": "code",
      "metadata": {
        "id": "brKz0rn8gwrZ",
        "colab_type": "code",
        "colab": {
          "base_uri": "https://localhost:8080/",
          "height": 85
        },
        "outputId": "6652f55e-ca61-49a4-d7cf-fe7fd36eca02"
      },
      "source": [
        "# variables and gradients\n",
        "'''\n",
        "  \n",
        "  variables accumalate gradients \n",
        "  \n",
        "'''\n",
        "\n",
        "from torch.autograd import Variable\n",
        "\n",
        "varA = Variable(torch.ones(2,2), requires_grad = True)\n",
        "varB = Variable(torch.ones(2,2), requires_grad = True)\n",
        "\n",
        "print(varA.add(varB))\n",
        "\n",
        "\n",
        "# Gradeint\n",
        "\n",
        "'''\n",
        "what excatly requires_grad?\n",
        "allows calcultion of grad w.r.t to variable \n",
        "\n",
        "y = 5(x + 1)^2\n",
        "\n",
        "\n",
        "\n",
        "'''\n",
        "\n",
        "x = Variable(torch.ones(2), requires_grad = True)\n",
        "y = 5 * (x+1) ** 2\n",
        "\n",
        "#Reduce the y to scalar\n",
        "\n",
        "'''\n",
        "Summary \n",
        "\n",
        "where y = 20 , 20\n",
        "where o = 20 after making that as scalar \n",
        "differnation of o using backward() and we will get 10\n",
        "\n",
        "to access it x.grad which has diff of y ;\n",
        "\n",
        "\n",
        "'''\n",
        "\n",
        "o = 1/2 * torch.sum(y)\n",
        "print(o)\n",
        "\n",
        "#calculate gradient descent\n",
        "o.backward()\n",
        "x.grad[0]"
      ],
      "execution_count": 121,
      "outputs": [
        {
          "output_type": "stream",
          "text": [
            "tensor([[2., 2.],\n",
            "        [2., 2.]], grad_fn=<AddBackward0>)\n",
            "tensor(20., grad_fn=<MulBackward0>)\n"
          ],
          "name": "stdout"
        },
        {
          "output_type": "execute_result",
          "data": {
            "text/plain": [
              "tensor(10.)"
            ]
          },
          "metadata": {
            "tags": []
          },
          "execution_count": 121
        }
      ]
    }
  ]
}