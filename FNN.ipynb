{
  "nbformat": 4,
  "nbformat_minor": 0,
  "metadata": {
    "colab": {
      "name": "FNN.ipynb",
      "provenance": [],
      "collapsed_sections": [],
      "include_colab_link": true
    },
    "kernelspec": {
      "name": "python3",
      "display_name": "Python 3"
    }
  },
  "cells": [
    {
      "cell_type": "markdown",
      "metadata": {
        "id": "view-in-github",
        "colab_type": "text"
      },
      "source": [
        "<a href=\"https://colab.research.google.com/github/sharatg9/Deep-Learning-ML-algorithm-using-pytorch/blob/master/FNN.ipynb\" target=\"_parent\"><img src=\"https://colab.research.google.com/assets/colab-badge.svg\" alt=\"Open In Colab\"/></a>"
      ]
    },
    {
      "cell_type": "code",
      "metadata": {
        "id": "qid4yYQXgdSw",
        "colab_type": "code",
        "colab": {}
      },
      "source": [
        "import torch \n",
        "import torch.nn as nn\n",
        "import torchvision.transforms as transforms\n",
        "import torchvision.datasets as dsets\n",
        "from torch.autograd import Variable\n",
        "\n",
        "\n",
        "train_dataset = dsets.MNIST(root='./data',\n",
        "                              train=True,\n",
        "                              transform=transforms.ToTensor(),\n",
        "                              download=True)\n",
        "\n",
        "test_dataset = dsets.MNIST(root='./data',\n",
        "                             train=False,\n",
        "                             transform=transforms.ToTensor())"
      ],
      "execution_count": 0,
      "outputs": []
    },
    {
      "cell_type": "code",
      "metadata": {
        "id": "1nAa1U7Oifsk",
        "colab_type": "code",
        "colab": {}
      },
      "source": [
        "train_dataloader = torch.utils.data.DataLoader(dataset=train_dataset,\n",
        "                                               batch_size=100,\n",
        "                                               shuffle=True)\n",
        "\n",
        "test_dataloader = torch.utils.data.DataLoader(dataset=test_dataset,\n",
        "                                              batch_size=100,\n",
        "                                              shuffle=False)"
      ],
      "execution_count": 0,
      "outputs": []
    },
    {
      "cell_type": "code",
      "metadata": {
        "id": "RPfkOH1TjsNn",
        "colab_type": "code",
        "colab": {}
      },
      "source": [
        "# Parmeter Input_dim, Hidden_dim, Output_dim \n",
        "\n",
        "class FNN(nn.Module):\n",
        "  def __init__(self, input_dim, hidden_dim, output_dim):\n",
        "    super(FNN, self).__init__()\n",
        "    \n",
        "    #Linear Function\n",
        "    self.fc1 = nn.Linear(input_dim, hidden_dim)\n",
        "    #non-Linear Function \n",
        "    self.aFun1 = nn.ReLU()\n",
        "    \n",
        "    #Linear Function\n",
        "    self.fc2 = nn.Linear(hidden_dim, hidden_dim)\n",
        "    #non-Linear Function \n",
        "    self.aFun2 = nn.ReLU()\n",
        "    \n",
        "    \n",
        "    #Linear Funcation\n",
        "    self.fc3 = nn.Linear(hidden_dim, output_dim)\n",
        "        \n",
        "  def forward(self, x):\n",
        "    \n",
        "    # Linear function\n",
        "    out= self.fc1(x)\n",
        "    \n",
        "    # Non - linearity\n",
        "    out= self.aFun1(out)\n",
        "    \n",
        "    \n",
        "    # Linear function\n",
        "    out= self.fc2(out)\n",
        "    \n",
        "    # Non - linearity\n",
        "    out= self.aFun2(out)\n",
        "    \n",
        "    # Linear function \n",
        "    out= self.fc3(out)\n",
        "    \n",
        "    return out"
      ],
      "execution_count": 0,
      "outputs": []
    },
    {
      "cell_type": "code",
      "metadata": {
        "id": "x-1immjwr2cl",
        "colab_type": "code",
        "colab": {}
      },
      "source": [
        "# Intintiate Modle Class\n",
        "\n",
        "input_dim = 28*28\n",
        "output_dim = 10\n",
        "\n",
        "# Number of Neurons and Number of activation functions \n",
        "hidden_dim = 100    \n",
        "\n",
        "\n",
        "model= FNN(input_dim, hidden_dim, output_dim)"
      ],
      "execution_count": 0,
      "outputs": []
    },
    {
      "cell_type": "code",
      "metadata": {
        "id": "WnmVyz_uucf5",
        "colab_type": "code",
        "colab": {}
      },
      "source": [
        "# Intintiate Loss function\n",
        "\n",
        "cert = nn.CrossEntropyLoss()\n",
        "\n",
        "# Intintiate Optimaztion\n",
        "\n",
        "Optimaztion = torch.optim.SGD(model.parameters(), lr=0.01)"
      ],
      "execution_count": 0,
      "outputs": []
    },
    {
      "cell_type": "code",
      "metadata": {
        "id": "WWChJ7t2vTK1",
        "colab_type": "code",
        "colab": {
          "base_uri": "https://localhost:8080/",
          "height": 153
        },
        "outputId": "57fbaa7c-8f45-4a9d-83f0-66426d97f26b"
      },
      "source": [
        "# Modelling train\n",
        "\n",
        "itr = 0;\n",
        "epoch = 5;\n",
        "for epoch in range(epoch):\n",
        "  for i, (images, lables) in enumerate(train_dataloader):\n",
        "    \n",
        "    #Input/Lable --> Variable \n",
        "    inputs = Variable(images.view(-1, 28*28))\n",
        "    lables = Variable(lables)\n",
        "    \n",
        "    #Clear gradient \n",
        "    Optimaztion.zero_grad()\n",
        "    \n",
        "    outputs = model(inputs)\n",
        "    \n",
        "    loss = cert(outputs, lables)\n",
        "    \n",
        "    loss.backward()\n",
        "    \n",
        "    Optimaztion.step()\n",
        "    \n",
        "    itr+=1\n",
        "    \n",
        "    \n",
        "    if itr % 500 == 0 :\n",
        "      total = 0;\n",
        "      correct = 0;\n",
        "      for images, lables in test_dataloader: \n",
        "        inputs = Variable(images.view(-1, 28*28))\n",
        "        outputs= model(inputs)\n",
        "        \n",
        "        _, pred = torch.max(outputs.data, 1)\n",
        "        \n",
        "        total += lables.size(0)\n",
        "        correct += (pred == lables).sum()\n",
        "      accuracy = 100 * correct / total\n",
        "        \n",
        "      print(loss.data, accuracy)\n",
        "      "
      ],
      "execution_count": 57,
      "outputs": [
        {
          "output_type": "stream",
          "text": [
            "tensor(0.4259) tensor(89)\n",
            "tensor(0.2969) tensor(90)\n",
            "tensor(0.5597) tensor(90)\n",
            "tensor(0.2986) tensor(91)\n",
            "tensor(0.2566) tensor(91)\n",
            "tensor(0.1958) tensor(91)\n",
            "tensor(0.2430) tensor(91)\n",
            "tensor(0.3051) tensor(92)\n"
          ],
          "name": "stdout"
        }
      ]
    },
    {
      "cell_type": "code",
      "metadata": {
        "id": "xFgFvsdv2Ial",
        "colab_type": "code",
        "colab": {}
      },
      "source": [
        "# test data\n",
        "\n",
        "\n"
      ],
      "execution_count": 0,
      "outputs": []
    }
  ]
}