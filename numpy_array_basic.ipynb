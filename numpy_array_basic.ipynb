{
  "nbformat": 4,
  "nbformat_minor": 0,
  "metadata": {
    "colab": {
      "name": "numpy_array_basic.ipynb",
      "provenance": [],
      "include_colab_link": true
    },
    "kernelspec": {
      "name": "python3",
      "display_name": "Python 3"
    }
  },
  "cells": [
    {
      "cell_type": "markdown",
      "metadata": {
        "id": "view-in-github",
        "colab_type": "text"
      },
      "source": [
        "<a href=\"https://colab.research.google.com/github/sharatg9/Deep-Learning-ML-algorithm-using-pytorch/blob/master/numpy_array_basic.ipynb\" target=\"_parent\"><img src=\"https://colab.research.google.com/assets/colab-badge.svg\" alt=\"Open In Colab\"/></a>"
      ]
    },
    {
      "cell_type": "code",
      "metadata": {
        "id": "MN1aD-1C9QjP",
        "colab_type": "code",
        "colab": {}
      },
      "source": [
        "#creating array from list using data type as float\n",
        "\n",
        "import numpy as np\n",
        "\n",
        "a = np.array([[1,2,3],[3,5,6],[5,9,8]], dtype = 'float')\n",
        "print(a)\n",
        "\n",
        "\n"
      ],
      "execution_count": 0,
      "outputs": []
    },
    {
      "cell_type": "code",
      "metadata": {
        "id": "2eJSsDKQ-KT8",
        "colab_type": "code",
        "colab": {}
      },
      "source": [
        "#creating array object \n",
        "#printing its data type\n",
        "\n",
        "\n",
        "a = np.array([[1,2,3],[2,3,6],[4,5,6],[5,6,6]])\n",
        "print(type(a))\n",
        "\n",
        "print(\"array shape \", a.shape)\n",
        "\n",
        "print(\"size of array\", a.size)\n",
        "\n",
        "print(\"data type by default\", a.dtype)\n"
      ],
      "execution_count": 0,
      "outputs": []
    },
    {
      "cell_type": "markdown",
      "metadata": {
        "id": "Ec2KVJ8pEb7Z",
        "colab_type": "text"
      },
      "source": [
        "# Array in numpy\n",
        "\n",
        "\n",
        "*   arr.ndim\n",
        "*   arr.dtype\n",
        "*   arr.size\n",
        "*   arr.shape\n",
        "\n"
      ]
    },
    {
      "cell_type": "code",
      "metadata": {
        "id": "Hqp0uiTgALuV",
        "colab_type": "code",
        "colab": {
          "base_uri": "https://localhost:8080/",
          "height": 68
        },
        "outputId": "37e51d33-9d1b-4c41-d706-4d144615e175"
      },
      "source": [
        "#creating a 3*3 array with zeros\n",
        "\n",
        "a = np.zeros([3,3])\n",
        "print(a)\n"
      ],
      "execution_count": 17,
      "outputs": [
        {
          "output_type": "stream",
          "text": [
            "[[0. 0. 0.]\n",
            " [0. 0. 0.]\n",
            " [0. 0. 0.]]\n"
          ],
          "name": "stdout"
        }
      ]
    },
    {
      "cell_type": "code",
      "metadata": {
        "id": "G9AA8pnFAjEh",
        "colab_type": "code",
        "colab": {
          "base_uri": "https://localhost:8080/",
          "height": 51
        },
        "outputId": "c7563c1f-5b82-45af-e9fd-214f34f40d24"
      },
      "source": [
        "# Array with random number\n",
        "\n",
        "a = np.random.random([2,2])\n",
        "print(a)\n",
        "\n"
      ],
      "execution_count": 19,
      "outputs": [
        {
          "output_type": "stream",
          "text": [
            "[[0.50570694 0.62983584]\n",
            " [0.0554514  0.45805864]]\n"
          ],
          "name": "stdout"
        }
      ]
    },
    {
      "cell_type": "code",
      "metadata": {
        "id": "nXs3dFtUA4Lx",
        "colab_type": "code",
        "colab": {
          "base_uri": "https://localhost:8080/",
          "height": 68
        },
        "outputId": "45f62d4b-e3c2-467f-c7e5-08d0416d0ce9"
      },
      "source": [
        "# sequence array with 0 to 30 with step of 5\n",
        "\n",
        "b = np.arange(0,30,5)\n",
        "print(b)\n",
        "\n",
        "# sequence array of 8 in range of 0 to 5\n",
        "\n",
        "c = np.linspace(1,5,8)\n",
        "print(c)\n"
      ],
      "execution_count": 36,
      "outputs": [
        {
          "output_type": "stream",
          "text": [
            "[ 0  5 10 15 20 25]\n",
            "[1.         1.57142857 2.14285714 2.71428571 3.28571429 3.85714286\n",
            " 4.42857143 5.        ]\n"
          ],
          "name": "stdout"
        }
      ]
    },
    {
      "cell_type": "code",
      "metadata": {
        "id": "pxOwcoGxBaKy",
        "colab_type": "code",
        "colab": {}
      },
      "source": [
        "#reshaping array \n",
        "\n",
        "a = np.array([[1,2,3],[4,5,6],[7,8,9]])\n",
        "print(\"original\", a)\n",
        "\n",
        "new_a = a.reshape(-1,1)\n",
        "print(\"reshape\", new_a)\n"
      ],
      "execution_count": 0,
      "outputs": []
    },
    {
      "cell_type": "code",
      "metadata": {
        "id": "WkicSWFgDH2s",
        "colab_type": "code",
        "colab": {
          "base_uri": "https://localhost:8080/",
          "height": 119
        },
        "outputId": "946f5552-5ea6-46d1-ad44-42cf130a254f"
      },
      "source": [
        "# Flatten array \n",
        "arr = np.array([[1, 2, 3], [4, 5, 6]]) \n",
        "flarr = arr.flatten()\n",
        "\n",
        "\n",
        "print (\"\\nOriginal array:\\n\", arr) \n",
        "print (\"Fattened array:\\n\", flarr) "
      ],
      "execution_count": 56,
      "outputs": [
        {
          "output_type": "stream",
          "text": [
            "\n",
            "Original array:\n",
            " [[1 2 3]\n",
            " [4 5 6]]\n",
            "Fattened array:\n",
            " [1 2 3 4 5 6]\n"
          ],
          "name": "stdout"
        }
      ]
    },
    {
      "cell_type": "markdown",
      "metadata": {
        "id": "80_YrgLCDOSj",
        "colab_type": "text"
      },
      "source": [
        "# array creation\n",
        "\n",
        "1.   np.array([1,2],[2,3])\n",
        "2.   np.zeros(2,2)\n",
        "3.   np.random.random([2,2])\n",
        "4.   np.arrange(0,30,5)\n",
        "5.   np.linspace(0,5,10)\n",
        "6.   array.reshape(-1,1)\n",
        "7.   array.flatten()\n",
        "\n",
        "\n",
        "  \n",
        "    \n",
        "\n"
      ]
    },
    {
      "cell_type": "code",
      "metadata": {
        "id": "G36Db8ZMEP1G",
        "colab_type": "code",
        "colab": {
          "base_uri": "https://localhost:8080/",
          "height": 85
        },
        "outputId": "17217b19-54c2-4bfb-c285-806f40d10ade"
      },
      "source": [
        "arr = np.array([[-1, 2, 0, 4], \n",
        "                [4, -0.5, 6, 0], \n",
        "                [2.6, 0, 7, 8], \n",
        "                [3, -7, 4, 2.0]])\n",
        "\n",
        "print(arr)"
      ],
      "execution_count": 57,
      "outputs": [
        {
          "output_type": "stream",
          "text": [
            "[[-1.   2.   0.   4. ]\n",
            " [ 4.  -0.5  6.   0. ]\n",
            " [ 2.6  0.   7.   8. ]\n",
            " [ 3.  -7.   4.   2. ]]\n"
          ],
          "name": "stdout"
        }
      ]
    },
    {
      "cell_type": "code",
      "metadata": {
        "id": "roVKOpyxFCdP",
        "colab_type": "code",
        "colab": {
          "base_uri": "https://localhost:8080/",
          "height": 119
        },
        "outputId": "80c3d467-1bb7-4a93-de1f-2716ff61e0e2"
      },
      "source": [
        "a = arr[:3, ::2 ]\n",
        "print(arr)\n",
        "\n",
        "print(\"------------------------------\")\n",
        "\n",
        "b = arr[[0,1,2,3],[3,2,1,0]]\n",
        "# indices (0,3) = 4 and (1,2) = 6 and so on                   \n",
        "                   \n",
        "print(b)"
      ],
      "execution_count": 82,
      "outputs": [
        {
          "output_type": "stream",
          "text": [
            "[[-1.   2.   0.   4. ]\n",
            " [ 4.  -0.5  6.   0. ]\n",
            " [ 2.6  0.   7.   8. ]\n",
            " [ 3.  -7.   4.   2. ]]\n",
            "------------------------------\n",
            "[4. 6. 0. 3.]\n"
          ],
          "name": "stdout"
        }
      ]
    },
    {
      "cell_type": "code",
      "metadata": {
        "id": "30I_C7NtG1dK",
        "colab_type": "code",
        "colab": {
          "base_uri": "https://localhost:8080/",
          "height": 34
        },
        "outputId": "38974d28-f0e7-4a06-ffdf-237e5023f8b7"
      },
      "source": [
        "c = arr[arr>0]\n",
        "\n",
        "print(c)"
      ],
      "execution_count": 87,
      "outputs": [
        {
          "output_type": "stream",
          "text": [
            "[2.  4.  4.  6.  2.6 7.  8.  3.  4.  2. ]\n"
          ],
          "name": "stdout"
        }
      ]
    },
    {
      "cell_type": "code",
      "metadata": {
        "id": "sOeF4p9GHYqm",
        "colab_type": "code",
        "colab": {
          "base_uri": "https://localhost:8080/",
          "height": 102
        },
        "outputId": "85aca34a-503f-4878-f89e-e34f776c16fe"
      },
      "source": [
        "# Basic operations\n",
        "\n",
        "a = np.array([1,2,3,4])\n",
        "\n",
        "print(a)\n",
        "\n",
        "print(\"add\", a+1)\n",
        "\n",
        "print(\"sub\", a-1)\n",
        "\n",
        "print(\"mul\", a*10)\n",
        "\n",
        "print(\"expo\", a**2)\n"
      ],
      "execution_count": 90,
      "outputs": [
        {
          "output_type": "stream",
          "text": [
            "[1 2 3 4]\n",
            "add [2 3 4 5]\n",
            "sub [0 1 2 3]\n",
            "mul [10 20 30 40]\n",
            "expo [ 1  4  9 16]\n"
          ],
          "name": "stdout"
        }
      ]
    },
    {
      "cell_type": "code",
      "metadata": {
        "id": "ACibGuyTH5mH",
        "colab_type": "code",
        "colab": {
          "base_uri": "https://localhost:8080/",
          "height": 119
        },
        "outputId": "3e3b228a-de95-4e92-dca8-575df7b1af2c"
      },
      "source": [
        "# array transport\n",
        "\n",
        "\n",
        "a = np.array([[1,2,3],[4,5,6],[7,8,9]])\n",
        "print(a)\n",
        "\n",
        "print(a.T)\n",
        "\n",
        "\n"
      ],
      "execution_count": 93,
      "outputs": [
        {
          "output_type": "stream",
          "text": [
            "[[1 2 3]\n",
            " [4 5 6]\n",
            " [7 8 9]]\n",
            "[[1 4 7]\n",
            " [2 5 8]\n",
            " [3 6 9]]\n"
          ],
          "name": "stdout"
        }
      ]
    },
    {
      "cell_type": "code",
      "metadata": {
        "id": "12FlkTzzIRE1",
        "colab_type": "code",
        "colab": {
          "base_uri": "https://localhost:8080/",
          "height": 85
        },
        "outputId": "b98b951e-470d-4379-f9f5-8d9e5ef99032"
      },
      "source": [
        "#maximum and minimum \n",
        "\n",
        "a = np.array([[1,2,3],[4,5,6],[7,8,9]])\n",
        "\n",
        "print(\"largest\", a.max())\n",
        "\n",
        "print(\"largest\", a.max(axis=1))\n",
        "\n",
        "print(\"smallest\", a.min())\n",
        "\n",
        "print(\"sum\", a.sum())\n",
        "\n"
      ],
      "execution_count": 100,
      "outputs": [
        {
          "output_type": "stream",
          "text": [
            "largest 9\n",
            "largest [3 6 9]\n",
            "smallest 1\n",
            "avg 45\n"
          ],
          "name": "stdout"
        }
      ]
    },
    {
      "cell_type": "markdown",
      "metadata": {
        "id": "efjpzJUeI9on",
        "colab_type": "text"
      },
      "source": [
        "#Array Operations\n",
        "\n",
        "\n",
        "1.   array.T\n",
        "2.   array.max()\n",
        "1.   array.min()\n",
        "2.   array.sum()\n",
        "1.   a + b addition\n",
        "2.   a * b elementary multiplicatio\n",
        "3.   a.dot(b) mat multiplication \n",
        "\n"
      ]
    },
    {
      "cell_type": "code",
      "metadata": {
        "id": "hU4WkOYhJdJQ",
        "colab_type": "code",
        "colab": {
          "base_uri": "https://localhost:8080/",
          "height": 51
        },
        "outputId": "8ddf0ebc-cf76-4354-c92b-922ce645a148"
      },
      "source": [
        "a = np.random.random([2,2])\n",
        "print(a)"
      ],
      "execution_count": 103,
      "outputs": [
        {
          "output_type": "stream",
          "text": [
            "[[0.69808401 0.76557935]\n",
            " [0.46898949 0.3637444 ]]\n"
          ],
          "name": "stdout"
        }
      ]
    },
    {
      "cell_type": "code",
      "metadata": {
        "id": "l_K4R0efJ1tR",
        "colab_type": "code",
        "colab": {
          "base_uri": "https://localhost:8080/",
          "height": 68
        },
        "outputId": "af80156e-92e2-431e-ab31-673e2f525c01"
      },
      "source": [
        "#sorting \n",
        "\n",
        "a = np.array([[1, 4, 2], \n",
        "                 [3, 4, 6], \n",
        "              [0, -1, 5]])\n",
        "print(a)\n",
        "\n"
      ],
      "execution_count": 104,
      "outputs": [
        {
          "output_type": "stream",
          "text": [
            "[[ 1  4  2]\n",
            " [ 3  4  6]\n",
            " [ 0 -1  5]]\n"
          ],
          "name": "stdout"
        }
      ]
    },
    {
      "cell_type": "code",
      "metadata": {
        "id": "lDgrU99kJ6zb",
        "colab_type": "code",
        "colab": {
          "base_uri": "https://localhost:8080/",
          "height": 153
        },
        "outputId": "f6cb3282-37f8-48ed-b544-db8b56b14724"
      },
      "source": [
        "print(np.sort(a))  # by defulat axis = 1\n",
        "\n",
        "print(np.sort(a, axis= None))\n",
        "\n",
        "print(np.sort(a, axis = 0))\n",
        "\n",
        "#merge sort algorithm \n",
        "\n",
        "print(np.sort(a, axis = None, kind='mergesort'))\n",
        "\n"
      ],
      "execution_count": 112,
      "outputs": [
        {
          "output_type": "stream",
          "text": [
            "[[ 1  2  4]\n",
            " [ 3  4  6]\n",
            " [-1  0  5]]\n",
            "[-1  0  1  2  3  4  4  5  6]\n",
            "[[ 0 -1  2]\n",
            " [ 1  4  5]\n",
            " [ 3  4  6]]\n",
            "[-1  0  1  2  3  4  4  5  6]\n"
          ],
          "name": "stdout"
        }
      ]
    },
    {
      "cell_type": "code",
      "metadata": {
        "id": "FpodffMIK85m",
        "colab_type": "code",
        "colab": {
          "base_uri": "https://localhost:8080/",
          "height": 51
        },
        "outputId": "6319575f-9a60-4282-acee-24b37b7fe754"
      },
      "source": [
        "dtypes = [('name', 'S10')]\n",
        "values = [(\"sharat\"), (\"bhagya\")]\n",
        "\n",
        "arr = np.array(values, dtype = dtypes)\n",
        "print(arr)\n",
        "\n",
        "print(np.sort(arr, order='name'))\n"
      ],
      "execution_count": 117,
      "outputs": [
        {
          "output_type": "stream",
          "text": [
            "[(b'sharat',) (b'bhagya',)]\n",
            "[(b'bhagya',) (b'sharat',)]\n"
          ],
          "name": "stdout"
        }
      ]
    }
  ]
}